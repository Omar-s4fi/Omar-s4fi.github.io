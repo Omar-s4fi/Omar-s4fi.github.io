{
 "cells": [
  {
   "cell_type": "code",
   "execution_count": 32,
   "id": "663c0ea9",
   "metadata": {},
   "outputs": [],
   "source": [
    "import pandas as pd\n",
    "from sklearn.tree import DecisionTreeClassifier\n",
    "from sklearn.model_selection import train_test_split\n",
    "from sklearn.metrics import accuracy_score\n",
    "\n",
    "train = pd.read_csv('train.csv')\n",
    "test = pd.read_csv('test.csv')\n",
    "\n",
    "# Replace values\n",
    "train['Sex'] = train['Sex'].replace({'male': 0, 'female': 1})\n",
    "test['Sex'] = test['Sex'].replace({'male': 0, 'female': 1})\n",
    "\n",
    "# Fill missing values\n",
    "train['Age'] = train['Age'].fillna(train['Age'].median())\n",
    "test['Age'] = test['Age'].fillna(train['Age'].median())\n",
    "train['Fare'] = train['Fare'].fillna(train['Fare'].median())\n",
    "test['Fare'] = test['Fare'].fillna(train['Fare'].median())\n",
    "\n",
    "# Select columns for X and y\n",
    "columns = ['Pclass', 'Sex', 'Age', 'Fare']\n",
    "X_train = train[columns]\n",
    "y_train = train['Survived']\n",
    "X_test = test[columns]\n",
    "\n",
    "# Create and train the model\n",
    "model = DecisionTreeClassifier()\n",
    "model.fit(X_train, y_train)\n",
    "\n",
    "# Make predictions on the test set\n",
    "predictions = model.predict(X_test)\n",
    "\n",
    "# Create a DataFrame for predictions\n",
    "predictions_df = pd.DataFrame({\n",
    "    'PassengerId': test['PassengerId'],\n",
    "    'Survived': predictions\n",
    "})\n",
    "\n",
    "predictions_df['Survived'] = predictions_df['Survived'].astype(int)\n",
    "predictions_df.to_csv('predictionsupdated3.csv', index=False)\n",
    "\n"
   ]
  }
 ],
 "metadata": {
  "kernelspec": {
   "display_name": "Python 3 (ipykernel)",
   "language": "python",
   "name": "python3"
  },
  "language_info": {
   "codemirror_mode": {
    "name": "ipython",
    "version": 3
   },
   "file_extension": ".py",
   "mimetype": "text/x-python",
   "name": "python",
   "nbconvert_exporter": "python",
   "pygments_lexer": "ipython3",
   "version": "3.11.4"
  }
 },
 "nbformat": 4,
 "nbformat_minor": 5
}
